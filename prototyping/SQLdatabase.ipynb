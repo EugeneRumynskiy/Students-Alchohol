{
 "cells": [
  {
   "cell_type": "markdown",
   "metadata": {},
   "source": [
    "# Simple guide to store csv in SQL database\n",
    "\n",
    "# First, a quick and dirty approach\n",
    "\n",
    "\t1. Install Postgres on your local machine  \n",
    "\t2. Import the CSV into a local Postgres database  \n",
    "\t3. Push that database to Heroku  \n",
    "\t\n",
    "\t\n",
    "# Commands\n",
    "\tsudo apt-get install postgresql - installing Postgres\n",
    "\twhich psql\n",
    "\tpsql\n",
    "\t\n",
    "\tsudo -u postgres -i - Run postgres\n",
    "\t\n",
    "\theroku addons - check if the app has an SQL-addon\n",
    "\t\n",
    "## How to create user\n",
    "\thttps://stackoverflow.com/questions/11919391/postgresql-error-fatal-role-username-does-not-exist\n",
    "\t\n",
    "## Nice tutorial\n",
    "http://blog.y3xz.com/blog/2012/08/16/flask-and-postgresql-on-heroku\n",
    "\n",
    "Python: \n",
    "https://stackoverflow.com/questions/2987433/how-to-import-csv-file-data-into-a-postgresql-table\n",
    "\n",
    "Finally, what worked for me:\n",
    "http://andyfiedler.com/2016/03/using-jupyter-for-exploring-a-heroku-database"
   ]
  },
  {
   "cell_type": "code",
   "execution_count": 3,
   "metadata": {
    "collapsed": true
   },
   "outputs": [],
   "source": [
    "import pandas as pd\n",
    "from sqlalchemy import create_engine\n",
    "import subprocess"
   ]
  },
  {
   "cell_type": "code",
   "execution_count": 44,
   "metadata": {},
   "outputs": [],
   "source": [
    "# reading data\n",
    "df = pd.read_csv('../data/student-mat.csv', \";\")\n",
    "\n",
    "# postgres doesn't like capitals or spaces\n",
    "df.columns = [c.lower() for c in df.columns]"
   ]
  },
  {
   "cell_type": "code",
   "execution_count": 1,
   "metadata": {},
   "outputs": [],
   "source": [
    "DATABASE_URL = subprocess.check_output(\"heroku config:get DATABASE_URL --app students-and-alcohol\",\n",
    "                                       shell=True).decode('utf-8')\n",
    "engine = create_engine(DATABASE_URL)"
   ]
  },
  {
   "cell_type": "code",
   "execution_count": 46,
   "metadata": {
    "collapsed": true
   },
   "outputs": [],
   "source": [
    "# storing to db\n",
    "df.to_sql(\"students_test\", engine)"
   ]
  },
  {
   "cell_type": "code",
   "execution_count": 5,
   "metadata": {},
   "outputs": [
    {
     "data": {
      "text/html": [
       "<div>\n",
       "<style>\n",
       "    .dataframe thead tr:only-child th {\n",
       "        text-align: right;\n",
       "    }\n",
       "\n",
       "    .dataframe thead th {\n",
       "        text-align: left;\n",
       "    }\n",
       "\n",
       "    .dataframe tbody tr th {\n",
       "        vertical-align: top;\n",
       "    }\n",
       "</style>\n",
       "<table border=\"1\" class=\"dataframe\">\n",
       "  <thead>\n",
       "    <tr style=\"text-align: right;\">\n",
       "      <th></th>\n",
       "      <th>sex</th>\n",
       "      <th>age</th>\n",
       "    </tr>\n",
       "  </thead>\n",
       "  <tbody>\n",
       "    <tr>\n",
       "      <th>0</th>\n",
       "      <td>F</td>\n",
       "      <td>18</td>\n",
       "    </tr>\n",
       "    <tr>\n",
       "      <th>1</th>\n",
       "      <td>F</td>\n",
       "      <td>17</td>\n",
       "    </tr>\n",
       "    <tr>\n",
       "      <th>2</th>\n",
       "      <td>F</td>\n",
       "      <td>15</td>\n",
       "    </tr>\n",
       "    <tr>\n",
       "      <th>3</th>\n",
       "      <td>F</td>\n",
       "      <td>15</td>\n",
       "    </tr>\n",
       "    <tr>\n",
       "      <th>4</th>\n",
       "      <td>F</td>\n",
       "      <td>16</td>\n",
       "    </tr>\n",
       "  </tbody>\n",
       "</table>\n",
       "</div>"
      ],
      "text/plain": [
       "  sex  age\n",
       "0   F   18\n",
       "1   F   17\n",
       "2   F   15\n",
       "3   F   15\n",
       "4   F   16"
      ]
     },
     "execution_count": 5,
     "metadata": {},
     "output_type": "execute_result"
    }
   ],
   "source": [
    "pd.read_sql_query('select sex, age from students_test', con=engine).head()"
   ]
  },
  {
   "cell_type": "code",
   "execution_count": null,
   "metadata": {
    "collapsed": true
   },
   "outputs": [],
   "source": []
  }
 ],
 "metadata": {
  "kernelspec": {
   "display_name": "Python 3",
   "language": "python",
   "name": "python3"
  },
  "language_info": {
   "codemirror_mode": {
    "name": "ipython",
    "version": 3
   },
   "file_extension": ".py",
   "mimetype": "text/x-python",
   "name": "python",
   "nbconvert_exporter": "python",
   "pygments_lexer": "ipython3",
   "version": "3.6.1"
  }
 },
 "nbformat": 4,
 "nbformat_minor": 2
}
