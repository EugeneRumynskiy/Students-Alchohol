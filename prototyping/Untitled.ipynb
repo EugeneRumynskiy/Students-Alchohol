{
 "cells": [
  {
   "cell_type": "code",
   "execution_count": 2,
   "metadata": {
    "collapsed": true
   },
   "outputs": [],
   "source": [
    "import os\n",
    "import json\n",
    "import numpy as np\n",
    "import pandas as pd\n",
    "\n",
    "from sklearn.externals import joblib\n",
    "from sklearn.model_selection import train_test_split, GridSearchCV\n",
    "\n",
    "from sklearn.base import BaseEstimator, TransformerMixin\n",
    "from sklearn.preprocessing import StandardScaler\n",
    "from sklearn.decomposition import PCA\n",
    "\n",
    "from sklearn.linear_model import ElasticNet\n",
    "\n",
    "from sklearn.pipeline import Pipeline\n",
    "from sklearn.pipeline import make_pipeline\n",
    "\n",
    "import dill as pickle"
   ]
  },
  {
   "cell_type": "code",
   "execution_count": 5,
   "metadata": {},
   "outputs": [
    {
     "data": {
      "text/plain": [
       "array([ 0.1,  0.2,  0.3,  0.4,  0.5,  0.6,  0.7,  0.8,  0.9,  1. ])"
      ]
     },
     "execution_count": 5,
     "metadata": {},
     "output_type": "execute_result"
    }
   ],
   "source": [
    "np.arange(0.1, 1.1, 0.1)"
   ]
  },
  {
   "cell_type": "code",
   "execution_count": 30,
   "metadata": {
    "collapsed": true
   },
   "outputs": [],
   "source": [
    "def build_and_train():\n",
    "    # loading data\n",
    "    df = pd.read_csv(\"../data/student-mat.csv\", \";\")\n",
    "\n",
    "    target_col = \"G3\"\n",
    "    x, y = df.drop(target_col, axis=1), df[target_col]\n",
    "    x_train, x_test, y_train, y_test = train_test_split(\n",
    "        x, y, test_size=0.1, random_state=42)\n",
    "\n",
    "    # making pipeline\n",
    "    regressor  = ElasticNet()\n",
    "    preproc = PreProcessing()\n",
    "    pipe = Pipeline(steps=[('preproc', preproc), ('regressor', regressor)])\n",
    "\n",
    "    # setting up grid search\n",
    "    param_grid = {\"regressor__max_iter\": [100, 200, 1000],\n",
    "                  \"regressor__alpha\": [0.0001, 0.001, 0.01, 0.1, 1],\n",
    "                  \"regressor__l1_ratio\": np.arange(0.1, 0.5, 0.1)}\n",
    "\n",
    "    # running grid search\n",
    "    grid = GridSearchCV(pipe, param_grid=param_grid, cv=3)\n",
    "    grid.fit(x_train, y_train)\n",
    "\n",
    "    return grid\n",
    "\n",
    "class PreProcessing(BaseEstimator, TransformerMixin):\n",
    "    \"\"\"Custom Pre-Processing estimator for our use-case\n",
    "    \"\"\"\n",
    "\n",
    "    def __init__(self):\n",
    "        pass\n",
    "\n",
    "    def transform(self, df):\n",
    "        \"\"\"Regular transform() that is a help for training, validation & testing datasets\n",
    "           (NOTE: The operations performed here are the ones that we did prior to this cell)\n",
    "        \"\"\"\n",
    "        binary_array = process_binary(df).as_matrix()\n",
    "        \n",
    "        numerical_array = process_numerical(df).as_matrix()\n",
    "        numerical_array = self.numerical_pipe_.transform(numerical_array)\n",
    "        \n",
    "        return np.hstack((numerical_array, binary_array))\n",
    "\n",
    "    def fit(self, df, y=None, **fit_params):\n",
    "        \"\"\"Fitting the Training dataset & calculating the required values from train\n",
    "           e.g: We will need the mean of X_train['Loan_Amount_Term'] that will be used in\n",
    "                transformation of X_test\n",
    "        \"\"\"\n",
    "        numerical = [\"age\", 'Medu', \"Fedu\", \"traveltime\", \"studytime\", \"failures\", \n",
    "               \"famrel\", \"freetime\", \"goout\", \"Dalc\", \"Walc\", \"health\", \"absences\", \"G1\", \"G2\"]\n",
    "        numerical_pipe = make_pipeline(PCA(n_components=10, svd_solver='full'), StandardScaler())\n",
    "        self.numerical_pipe_ = numerical_pipe.fit(df[numerical], y)\n",
    "        \n",
    "        return self\n",
    "    \n",
    "def process_numerical(df):\n",
    "    numerical = [\"age\", 'Medu', \"Fedu\", \"traveltime\", \"studytime\", \"failures\", \n",
    "               \"famrel\", \"freetime\", \"goout\", \"Dalc\", \"Walc\", \"health\", \"absences\", \"G1\", \"G2\"]\n",
    "    \n",
    "    #cutting off rare values\n",
    "    #df.loc[df[\"age\"] > 19, 'age'] = 19\n",
    "    #df.loc[(df[\"Dalc\"] > 3).index, 'Dalc'] = 3\n",
    "    #We are still gettig warn of chained assignment here, though It's false positive and safe\n",
    "\n",
    "    return df[numerical]\n",
    "    \n",
    "        \n",
    "def process_binary(df):\n",
    "    categorical = [\"address\", \"famsize\", \"Pstatus\", \"schoolsup\", \"famsup\", \"paid\",\n",
    "              \"activities\", \"nursery\", \"higher\", \"internet\", \"romantic\",\n",
    "                  'school', 'sex', 'Mjob', 'Fjob', 'guardian', 'reason']\n",
    "    binary = list(filter(lambda col: df[col].value_counts().shape[0] == 2, categorical))\n",
    "\n",
    "    # encoding binary variables\n",
    "    schoolsup_values =  {'no': 0, 'yes': 1}\n",
    "    famsup_values =  {'no': 0, 'yes': 1}\n",
    "    paid_values =  {'no': 0, 'yes': 1}\n",
    "    activities_values =  {'no': 0, 'yes': 1}\n",
    "    nursery_values =  {'no': 0, 'yes': 1}\n",
    "    higher_values =  {'no': 0, 'yes': 1}\n",
    "    internet_values =  {'no': 0, 'yes': 1}\n",
    "    romantic_values =  {'no': 0, 'yes': 1}\n",
    "\n",
    "    sex_values =  {'F': 0, 'M': 1} #male\\female\n",
    "    address_values =  {'U': 0, 'R': 1} #urban\\rural\n",
    "    famsize_values =  {'GT3': 1, 'LE3': 0} #le3 == (<= 3)\n",
    "    Pstatus_values =  {'T': 0, 'A': 1} #together\\apart\n",
    "    school_values =  {'GP': 0, 'MS': 1} #school name\n",
    "    \n",
    "    # cutting off categorical features with 3+ values\n",
    "    tmp = df[binary].replace({'address' : address_values, 'famsize' : famsize_values, 'Pstatus' : Pstatus_values,\n",
    "                'schoolsup' : schoolsup_values, 'famsup' : famsup_values, 'paid' : paid_values, \n",
    "                'activities' : activities_values, 'nursery' : nursery_values, 'higher' : higher_values,\n",
    "                'internet' : internet_values, 'romantic' : romantic_values, 'school' : school_values,\n",
    "                'sex' : sex_values})\n",
    "\n",
    "    # chosing features from discovery notebook\n",
    "    return tmp[[\"address\", \"schoolsup\", \"higher\", \"internet\", \"romantic\"]]"
   ]
  },
  {
   "cell_type": "code",
   "execution_count": 31,
   "metadata": {},
   "outputs": [],
   "source": [
    "md = build_and_train()"
   ]
  },
  {
   "cell_type": "code",
   "execution_count": 32,
   "metadata": {},
   "outputs": [
    {
     "data": {
      "text/plain": [
       "Pipeline(steps=[('preproc', PreProcessing()), ('regressor', ElasticNet(alpha=0.01, copy_X=True, fit_intercept=True,\n",
       "      l1_ratio=0.40000000000000002, max_iter=100, normalize=False,\n",
       "      positive=False, precompute=False, random_state=None,\n",
       "      selection='cyclic', tol=0.0001, warm_start=False))])"
      ]
     },
     "execution_count": 32,
     "metadata": {},
     "output_type": "execute_result"
    }
   ],
   "source": [
    "md.best_estimator_"
   ]
  },
  {
   "cell_type": "code",
   "execution_count": 34,
   "metadata": {},
   "outputs": [
    {
     "data": {
      "text/plain": [
       "1.1525693213186565"
      ]
     },
     "execution_count": 34,
     "metadata": {},
     "output_type": "execute_result"
    }
   ],
   "source": [
    "test_df = pd.read_csv(\"../data/student-por.csv\", \";\")\n",
    "target_col = \"G3\"\n",
    "x, y = test_df.drop(target_col, axis=1), test_df[target_col]\n",
    "np.abs(md.predict(x) - y).mean()"
   ]
  },
  {
   "cell_type": "code",
   "execution_count": 27,
   "metadata": {},
   "outputs": [
    {
     "data": {
      "text/plain": [
       "1.2949367088607595"
      ]
     },
     "execution_count": 27,
     "metadata": {},
     "output_type": "execute_result"
    }
   ],
   "source": [
    "np.abs((x[\"G2\"] + x[\"G1\"])/2 - y).mean()"
   ]
  },
  {
   "cell_type": "code",
   "execution_count": 16,
   "metadata": {},
   "outputs": [
    {
     "data": {
      "text/plain": [
       "1.1428226085974016"
      ]
     },
     "execution_count": 16,
     "metadata": {},
     "output_type": "execute_result"
    }
   ],
   "source": [
    "np.abs(md.predict(x) - y).mean()"
   ]
  },
  {
   "cell_type": "code",
   "execution_count": null,
   "metadata": {
    "collapsed": true
   },
   "outputs": [],
   "source": []
  }
 ],
 "metadata": {
  "kernelspec": {
   "display_name": "Python 3",
   "language": "python",
   "name": "python3"
  },
  "language_info": {
   "codemirror_mode": {
    "name": "ipython",
    "version": 3
   },
   "file_extension": ".py",
   "mimetype": "text/x-python",
   "name": "python",
   "nbconvert_exporter": "python",
   "pygments_lexer": "ipython3",
   "version": "3.6.1"
  }
 },
 "nbformat": 4,
 "nbformat_minor": 2
}
