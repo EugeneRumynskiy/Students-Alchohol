{
 "cells": [
  {
   "cell_type": "markdown",
   "metadata": {},
   "source": [
    "### Задача 3: предсказать успеваемость студента по его данным (см. колонки G1, G2, G3).  Прототипирование можно делать в jupyter, итоговый результат надо   оформить в виде питоновского модуля  "
   ]
  },
  {
   "cell_type": "markdown",
   "metadata": {},
   "source": [
    "### Models to test\n",
    "    Models:\n",
    "        naive\n",
    "        OLS, http://www.statsmodels.org/dev/gettingstarted.html\n",
    "        xgboost\n",
    "        RandomForest"
   ]
  },
  {
   "cell_type": "markdown",
   "metadata": {},
   "source": [
    "Судя по статье, ключевую роль в предсказании G3 играют G1, G2. Посмотрим на корреляции и распределения количественных признаков."
   ]
  },
  {
   "cell_type": "code",
   "execution_count": 2,
   "metadata": {},
   "outputs": [
    {
     "name": "stdout",
     "output_type": "stream",
     "text": [
      "Populating the interactive namespace from numpy and matplotlib\n"
     ]
    }
   ],
   "source": [
    "import numpy as np\n",
    "import pandas as pd\n",
    "from sklearn import model_selection, linear_model, metrics\n",
    "from sklearn.pipeline import Pipeline, make_pipeline\n",
    "\n",
    "from sklearn.base import BaseEstimator, TransformerMixin\n",
    "from sklearn.preprocessing import StandardScaler\n",
    "from sklearn.decomposition import PCA\n",
    "\n",
    "from sklearn.ensemble import RandomForestRegressor, ExtraTreesRegressor, GradientBoostingRegressor\n",
    "from sklearn.linear_model import SGDRegressor, Lasso, Ridge, ElasticNet\n",
    "\n",
    "\n",
    "from IPython.display import display\n",
    "%pylab inline"
   ]
  },
  {
   "cell_type": "markdown",
   "metadata": {},
   "source": [
    "# baseline\n",
    "### mae, mse\n",
    "### 0.94, 2.10 - por\n",
    "### 1.30, 4.96 - mat\n",
    "\n",
    "### baseline = ((X[\"G1\"] + X[\"G2\"])/2).values\n",
    "### metrics.mean_squared_error(y, baseline)"
   ]
  },
  {
   "cell_type": "code",
   "execution_count": 91,
   "metadata": {
    "collapsed": true
   },
   "outputs": [],
   "source": [
    "def get_models():\n",
    "    return [SGDRegressor(random_state=42), Lasso(random_state=42, alpha=0.001), \n",
    "            Ridge(random_state=42), ElasticNet(random_state=42, alpha=0.05, l1_ratio=0.6),\n",
    "            RandomForestRegressor(n_estimators=100, max_depth=5, random_state=42, criterion=\"mse\"),\n",
    "            GradientBoostingRegressor(random_state=42),\n",
    "            ExtraTreesRegressor(random_state=42)]\n",
    "\n",
    "\n",
    "def get_model_name(model):\n",
    "    rep = model.__repr__()\n",
    "    return rep[:rep.find(\"(\")]\n",
    "\n",
    "\n",
    "def get_pipeline_name(pipeline):\n",
    "    return pipeline.steps[-1][0]\n",
    "\n",
    "\n",
    "def make_pipelines():\n",
    "    models = get_models()\n",
    "    return list(map(\n",
    "        lambda model: make_pipeline(\n",
    "            #PCA(n_components=8, svd_solver='full'),\n",
    "            #StandardScaler(), \n",
    "            PreProcessing(),\n",
    "            model),\n",
    "    models))    \n",
    "\n",
    "\n",
    "def score_pipelines(pipelines, X, y):    \n",
    "    scores = [(get_pipeline_name(pipe), \n",
    "               model_selection.cross_val_score(pipe, X, y, cv=10, scoring=\"neg_mean_squared_error\").mean(), \n",
    "               model_selection.cross_val_score(pipe, X, y, cv=10, scoring=\"neg_mean_absolute_error\").mean())\n",
    "              for pipe in pipelines]\n",
    "    \n",
    "    return scores\n",
    "\n",
    "\n",
    "def score_datasets(drop_col):\n",
    "    categorical = [\"address\", \"famsize\", \"Pstatus\", \"schoolsup\", \"famsup\", \"paid\",\n",
    "          \"activities\", \"nursery\", \"higher\", \"internet\", \"romantic\",\n",
    "              'school', 'sex', 'Mjob', 'Fjob', 'guardian', 'reason']\n",
    "    target_col = [\"G3\"]\n",
    "    \n",
    "    result = {}\n",
    "    \n",
    "    postfix = [\"mat\", \"por\"]\n",
    "    for post in postfix:\n",
    "        df = pd.read_csv(\"../data/student-\" + post + \".csv\", \";\")\n",
    "        X, y = df.drop(target_col + drop_col, axis=1), df[target_col[0]]\n",
    "        \n",
    "        pipelines = make_pipelines()\n",
    "        result[post] = score_pipelines(pipelines, X, y)\n",
    "        \n",
    "    return result    \n",
    "\n",
    "\n",
    "def show_scores(scores):\n",
    "    print(\"mat\")\n",
    "    print(sorted(scores[\"mat\"], key=lambda score: score[1])[-1])\n",
    "    print(sorted(scores[\"mat\"], key=lambda score: score[2])[-1])\n",
    "\n",
    "    print(\"por\")\n",
    "    print(sorted(scores[\"por\"], key=lambda score: score[1])[-1])\n",
    "    print(sorted(scores[\"por\"], key=lambda score: score[2])[-1])"
   ]
  },
  {
   "cell_type": "markdown",
   "metadata": {},
   "source": [
    "# Without Preprocessing"
   ]
  },
  {
   "cell_type": "code",
   "execution_count": 84,
   "metadata": {},
   "outputs": [
    {
     "name": "stdout",
     "output_type": "stream",
     "text": [
      "mat\n",
      "('randomforestregressor', -2.9434288826170674, -1.028395962093918)\n",
      "('randomforestregressor', -2.9434288826170674, -1.028395962093918)\n",
      "por\n",
      "('elasticnet', -1.6682858149692688, -0.8003328011280193)\n",
      "('elasticnet', -1.6682858149692688, -0.8003328011280193)\n"
     ]
    }
   ],
   "source": [
    "categorical = [\"address\", \"famsize\", \"Pstatus\", \"schoolsup\", \"famsup\", \"paid\",\n",
    "          \"activities\", \"nursery\", \"higher\", \"internet\", \"romantic\",\n",
    "              'school', 'sex', 'Mjob', 'Fjob', 'guardian', 'reason']\n",
    "scores = score_datasets(categorical)\n",
    "show_scores(scores)"
   ]
  },
  {
   "cell_type": "markdown",
   "metadata": {},
   "source": [
    "# With Preprocessing"
   ]
  },
  {
   "cell_type": "markdown",
   "metadata": {},
   "source": [
    "# Standard scaling"
   ]
  },
  {
   "cell_type": "code",
   "execution_count": 86,
   "metadata": {},
   "outputs": [
    {
     "name": "stdout",
     "output_type": "stream",
     "text": [
      "mat\n",
      "('randomforestregressor', -2.9308738896755999, -1.027119076258612)\n",
      "('randomforestregressor', -2.9308738896755999, -1.027119076258612)\n",
      "por\n",
      "('elasticnet', -1.6831282997275985, -0.79506529984905439)\n",
      "('elasticnet', -1.6831282997275985, -0.79506529984905439)\n"
     ]
    }
   ],
   "source": [
    "categorical = [\"address\", \"famsize\", \"Pstatus\", \"schoolsup\", \"famsup\", \"paid\",\n",
    "          \"activities\", \"nursery\", \"higher\", \"internet\", \"romantic\",\n",
    "              'school', 'sex', 'Mjob', 'Fjob', 'guardian', 'reason']\n",
    "scores = score_datasets(categorical)\n",
    "show_scores(scores)"
   ]
  },
  {
   "cell_type": "markdown",
   "metadata": {},
   "source": [
    "# PCA"
   ]
  },
  {
   "cell_type": "code",
   "execution_count": 88,
   "metadata": {},
   "outputs": [
    {
     "name": "stdout",
     "output_type": "stream",
     "text": [
      "mat\n",
      "('gradientboostingregressor', -3.0542171299543299, -1.1170016433453769)\n",
      "('randomforestregressor', -3.1196918610594748, -1.116322342003023)\n",
      "por\n",
      "('lasso', -1.7021333631501618, -0.8116106694930636)\n",
      "('sgdregressor', -1.7161575281351662, -0.80193114846163349)\n"
     ]
    }
   ],
   "source": [
    "categorical = [\"address\", \"famsize\", \"Pstatus\", \"schoolsup\", \"famsup\", \"paid\",\n",
    "          \"activities\", \"nursery\", \"higher\", \"internet\", \"romantic\",\n",
    "              'school', 'sex', 'Mjob', 'Fjob', 'guardian', 'reason']\n",
    "scores = score_datasets(categorical)\n",
    "show_scores(scores)"
   ]
  },
  {
   "cell_type": "markdown",
   "metadata": {},
   "source": [
    "# PCA -> Std Scaling"
   ]
  },
  {
   "cell_type": "code",
   "execution_count": 90,
   "metadata": {},
   "outputs": [
    {
     "name": "stdout",
     "output_type": "stream",
     "text": [
      "mat\n",
      "('gradientboostingregressor', -3.0542171299543299, -1.1170016433453769)\n",
      "('randomforestregressor', -3.1196918610594748, -1.116322342003023)\n",
      "por\n",
      "('sgdregressor', -1.6974715648298673, -0.80786494961338884)\n",
      "('elasticnet', -1.7160738135898737, -0.80107710020066381)\n"
     ]
    }
   ],
   "source": [
    "categorical = [\"address\", \"famsize\", \"Pstatus\", \"schoolsup\", \"famsup\", \"paid\",\n",
    "          \"activities\", \"nursery\", \"higher\", \"internet\", \"romantic\",\n",
    "              'school', 'sex', 'Mjob', 'Fjob', 'guardian', 'reason']\n",
    "scores = score_datasets(categorical)\n",
    "show_scores(scores)"
   ]
  },
  {
   "cell_type": "markdown",
   "metadata": {
    "collapsed": true
   },
   "source": [
    "# PCA -> Std Scalingwith binary features"
   ]
  },
  {
   "cell_type": "code",
   "execution_count": 99,
   "metadata": {
    "collapsed": true
   },
   "outputs": [],
   "source": [
    "def build_and_train():\n",
    "    # loading data\n",
    "    df = pd.read_csv(\"../data/student-mat.csv\", \";\")\n",
    "\n",
    "    target_col = \"G3\"\n",
    "    x, y = df.drop(target_col, axis=1), df[target_col]\n",
    "    x_train, x_test, y_train, y_test = train_test_split(\n",
    "        x, y, test_size=0.1, random_state=42)\n",
    "\n",
    "    # making pipeline\n",
    "    regressor  = ElasticNet()\n",
    "    preproc = PreProcessing()\n",
    "    pipe = Pipeline(steps=[('preproc', preproc), ('regressor', regressor)])\n",
    "\n",
    "    # setting up grid search\n",
    "    param_grid = {\"regressor__max_iter\": [100, 200, 1000],\n",
    "                  \"regressor__alpha\": [0.0001, 0.001, 0.01, 0.1, 1],\n",
    "                  \"regressor__l1_ratio\": np.arange(0.1, 0.5, 0.1)}\n",
    "\n",
    "    # running grid search\n",
    "    grid = GridSearchCV(pipe, param_grid=param_grid, cv=3)\n",
    "    grid.fit(x_train, y_train)\n",
    "\n",
    "    return grid\n",
    "\n",
    "class PreProcessing(BaseEstimator, TransformerMixin):\n",
    "    \"\"\"Custom Pre-Processing estimator for our use-case\n",
    "    \"\"\"\n",
    "\n",
    "    def __init__(self):\n",
    "        pass\n",
    "\n",
    "    def transform(self, df):\n",
    "        \"\"\"Regular transform() that is a help for training, validation & testing datasets\n",
    "           (NOTE: The operations performed here are the ones that we did prior to this cell)\n",
    "        \"\"\"\n",
    "        #binary_array = process_binary(df).as_matrix()\n",
    "        \n",
    "        numerical_array = process_numerical(df).as_matrix()\n",
    "        numerical_array = self.numerical_pipe_.transform(numerical_array)\n",
    "        \n",
    "        #return np.hstack((numerical_array, binary_array))\n",
    "        return numerical_array\n",
    "\n",
    "    def fit(self, df, y=None, **fit_params):\n",
    "        \"\"\"Fitting the Training dataset & calculating the required values from train\n",
    "           e.g: We will need the mean of X_train['Loan_Amount_Term'] that will be used in\n",
    "                transformation of X_test\n",
    "        \"\"\"\n",
    "        numerical = [\"age\", 'Medu', \"Fedu\", \"traveltime\", \"studytime\", \"failures\", \n",
    "               \"famrel\", \"freetime\", \"goout\", \"Dalc\", \"Walc\", \"health\", \"absences\", \"G1\", \"G2\"]\n",
    "        #numerical_pipe = make_pipeline(PCA(n_components=10, svd_solver='full'), StandardScaler())\n",
    "        numerical_pipe = make_pipeline(StandardScaler())\n",
    "        self.numerical_pipe_ = numerical_pipe.fit(df[numerical], y)\n",
    "        \n",
    "        return self\n",
    "    \n",
    "def process_numerical(df):\n",
    "    numerical = [\"age\", 'Medu', \"Fedu\", \"traveltime\", \"studytime\", \"failures\", \n",
    "               \"famrel\", \"freetime\", \"goout\", \"Dalc\", \"Walc\", \"health\", \"absences\", \"G1\", \"G2\"]\n",
    "    \n",
    "    #cutting off rare values\n",
    "    df.loc[df[\"age\"] > 19, 'age'] = 19\n",
    "    df.loc[(df[\"Dalc\"] > 3).index, 'Dalc'] = 3\n",
    "    #We are still gettig warn of chained assignment here, though It's false positive and safe\n",
    "\n",
    "    return df[numerical]\n",
    "    \n",
    "        \n",
    "def process_binary(df):\n",
    "    categorical = [\"address\", \"famsize\", \"Pstatus\", \"schoolsup\", \"famsup\", \"paid\",\n",
    "              \"activities\", \"nursery\", \"higher\", \"internet\", \"romantic\",\n",
    "                  'school', 'sex', 'Mjob', 'Fjob', 'guardian', 'reason']\n",
    "    \n",
    "    # binary = list(filter(lambda col: df[col].value_counts().shape[0] == 2, categorical))\n",
    "    # Это жесткая ошибка. При неравномерном распределении по признакам, при кроссвалидации\n",
    "    # можно отобрать разные фичи. То есть в одном фолде значения будут бинарные, в другом нет. Всё, беда.\n",
    "    # Пропишем руками.\n",
    "    binary = ['address', 'famsize', 'Pstatus', 'schoolsup', 'famsup', 'paid', 'activities', 'nursery',\n",
    "               'higher', 'internet', 'romantic', 'school', 'sex']\n",
    "\n",
    "    # encoding binary variables\n",
    "    schoolsup_values =  {'no': 0, 'yes': 1}\n",
    "    famsup_values =  {'no': 0, 'yes': 1}\n",
    "    paid_values =  {'no': 0, 'yes': 1}\n",
    "    activities_values =  {'no': 0, 'yes': 1}\n",
    "    nursery_values =  {'no': 0, 'yes': 1}\n",
    "    higher_values =  {'no': 0, 'yes': 1}\n",
    "    internet_values =  {'no': 0, 'yes': 1}\n",
    "    romantic_values =  {'no': 0, 'yes': 1}\n",
    "\n",
    "    sex_values =  {'F': 0, 'M': 1} #male\\female\n",
    "    address_values =  {'U': 0, 'R': 1} #urban\\rural\n",
    "    famsize_values =  {'GT3': 1, 'LE3': 0} #le3 == (<= 3)\n",
    "    Pstatus_values =  {'T': 0, 'A': 1} #together\\apart\n",
    "    school_values =  {'GP': 0, 'MS': 1} #school name\n",
    "    \n",
    "    # cutting off categorical features with 3+ values\n",
    "    tmp = df[binary].replace({'address' : address_values, 'famsize' : famsize_values, 'Pstatus' : Pstatus_values,\n",
    "                'schoolsup' : schoolsup_values, 'famsup' : famsup_values, 'paid' : paid_values, \n",
    "                'activities' : activities_values, 'nursery' : nursery_values, 'higher' : higher_values,\n",
    "                'internet' : internet_values, 'romantic' : romantic_values, 'school' : school_values,\n",
    "                'sex' : sex_values})\n",
    "\n",
    "    # chosing features from discovery notebook\n",
    "    return tmp[[\"address\", \"schoolsup\", \"higher\", \"internet\", \"romantic\"]]"
   ]
  },
  {
   "cell_type": "code",
   "execution_count": 98,
   "metadata": {},
   "outputs": [
    {
     "name": "stdout",
     "output_type": "stream",
     "text": [
      "mat\n",
      "('randomforestregressor', -3.1738529013391985, -1.1270439164607846)\n",
      "('gradientboostingregressor', -3.1776776278641177, -1.1196181140914825)\n",
      "por\n",
      "('elasticnet', -1.6948649863943026, -0.79190771749624267)\n",
      "('elasticnet', -1.6948649863943026, -0.79190771749624267)\n"
     ]
    }
   ],
   "source": [
    "import warnings\n",
    "warnings.filterwarnings(\"ignore\")\n",
    "\n",
    "scores = score_datasets([])\n",
    "show_scores(scores)"
   ]
  },
  {
   "cell_type": "markdown",
   "metadata": {},
   "source": [
    "# Conclusion\n",
    "Dataset| metric| best_model| preprocessing\n",
    "-------| ------| --------- | ------ \n",
    "Por| mse| elaticnet| without\n",
    "Por| mae| elaticnet| custom PreProcessing or STDscaling\n",
    "Mat| mse| randomforest| STDscaling or without\n",
    "Mat| mae| randomforest| STDscaling or without\n",
    "\n",
    "Let's take STDscaling -> elasticnet as our primary model. Of course further investigations are needed, but for the raw solution it's OK."
   ]
  },
  {
   "cell_type": "code",
   "execution_count": 100,
   "metadata": {},
   "outputs": [
    {
     "name": "stdout",
     "output_type": "stream",
     "text": [
      "mat\n",
      "('randomforestregressor', -2.9203018974252495, -1.023059596231314)\n",
      "('randomforestregressor', -2.9203018974252495, -1.023059596231314)\n",
      "por\n",
      "('elasticnet', -1.6843171967016268, -0.79657159300227054)\n",
      "('elasticnet', -1.6843171967016268, -0.79657159300227054)\n"
     ]
    }
   ],
   "source": [
    "import warnings\n",
    "warnings.filterwarnings(\"ignore\")\n",
    "\n",
    "scores = score_datasets([])\n",
    "show_scores(scores)"
   ]
  },
  {
   "cell_type": "code",
   "execution_count": null,
   "metadata": {
    "collapsed": true
   },
   "outputs": [],
   "source": []
  }
 ],
 "metadata": {
  "kernelspec": {
   "display_name": "Python 3",
   "language": "python",
   "name": "python3"
  },
  "language_info": {
   "codemirror_mode": {
    "name": "ipython",
    "version": 3
   },
   "file_extension": ".py",
   "mimetype": "text/x-python",
   "name": "python",
   "nbconvert_exporter": "python",
   "pygments_lexer": "ipython3",
   "version": "3.6.1"
  }
 },
 "nbformat": 4,
 "nbformat_minor": 2
}
