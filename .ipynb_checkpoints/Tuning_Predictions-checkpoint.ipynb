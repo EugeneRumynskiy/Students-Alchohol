{
 "cells": [
  {
   "cell_type": "markdown",
   "metadata": {},
   "source": [
    "### Задача 3: предсказать успеваемость студента по его данным (см. колонки G1, G2, G3).  Прототипирование можно делать в jupyter, итоговый результат надо   оформить в виде питоновского модуля  "
   ]
  },
  {
   "cell_type": "markdown",
   "metadata": {},
   "source": [
    "### Models to test\n",
    "    Models:\n",
    "        naive\n",
    "        OLS, http://www.statsmodels.org/dev/gettingstarted.html\n",
    "        xgboost\n",
    "        RandomForest"
   ]
  },
  {
   "cell_type": "markdown",
   "metadata": {},
   "source": [
    "Судя по статье, ключевую роль в предсказании G3 играют G1, G2. Посмотрим на корреляции и распределения количественных признаков."
   ]
  },
  {
   "cell_type": "markdown",
   "metadata": {},
   "source": [
    "### Data preparation\n",
    "Dalc (1-5) -> (1-3)\n"
   ]
  },
  {
   "cell_type": "markdown",
   "metadata": {},
   "source": [
    "# Metrics"
   ]
  },
  {
   "cell_type": "markdown",
   "metadata": {},
   "source": [
    "RMSE, accuracy, ROC-AUC"
   ]
  },
  {
   "cell_type": "markdown",
   "metadata": {},
   "source": [
    "# Baseline\n",
    "mean G1, G2"
   ]
  },
  {
   "cell_type": "code",
   "execution_count": 23,
   "metadata": {
    "collapsed": false
   },
   "outputs": [
    {
     "name": "stdout",
     "output_type": "stream",
     "text": [
      "Populating the interactive namespace from numpy and matplotlib\n"
     ]
    }
   ],
   "source": [
    "import numpy as np\n",
    "import pandas as pd\n",
    "from sklearn import model_selection, linear_model, metrics\n",
    "from sklearn.pipeline import Pipeline\n",
    "from sklearn.preprocessing import StandardScaler\n",
    "\n",
    "from IPython.display import display\n",
    "%pylab inline"
   ]
  },
  {
   "cell_type": "code",
   "execution_count": 4,
   "metadata": {
    "collapsed": false
   },
   "outputs": [],
   "source": [
    "df = pd.read_csv(\"data/student-por.csv\", \";\")\n",
    "numeric = [\"age\", 'Medu', \"Fedu\", \"traveltime\", \"studytime\", \"failures\",\\\n",
    "           \"famrel\", \"freetime\", \"goout\", \"Dalc\", \"Walc\", \"health\", \"absences\", \"G1\", \"G2\"]\n",
    "df[numeric].head(1)\n",
    "\n",
    "X, y = df[numeric], df[\"G3\"]\n",
    "X_train, X_test, y_train, y_test = model_selection.train_test_split(\n",
    "    X, y, test_size=0.1, random_state=42)"
   ]
  },
  {
   "cell_type": "code",
   "execution_count": 5,
   "metadata": {
    "collapsed": false
   },
   "outputs": [
    {
     "data": {
      "text/plain": [
       "0.90769230769230769"
      ]
     },
     "execution_count": 5,
     "metadata": {},
     "output_type": "execute_result"
    }
   ],
   "source": [
    "baseline = ((X_test[\"G1\"] + X_test[\"G2\"])/2).values\n",
    "metrics.mean_squared_error(y_test, baseline)"
   ]
  },
  {
   "cell_type": "code",
   "execution_count": 6,
   "metadata": {
    "collapsed": false
   },
   "outputs": [
    {
     "name": "stdout",
     "output_type": "stream",
     "text": [
      "2.16619597531e+19\n",
      "[ -6.79945200e+08  -7.39583544e+08   1.08346683e+09   3.32077019e+08\n",
      "   2.98572848e+08   5.23608489e+09   1.96423593e+08   7.55711516e+07\n",
      "   2.98812748e+08   3.04567568e+09  -1.80298647e+09   1.78427824e+08\n",
      "  -4.54750603e+07   2.04263927e+08   4.10095201e+08]\n"
     ]
    }
   ],
   "source": [
    "regressor = linear_model.SGDRegressor(random_state = 42)\n",
    "regressor.fit(X_train, y_train)\n",
    "print(metrics.mean_squared_error(y_test, regressor.predict(X_test)))\n",
    "print(regressor.coef_)"
   ]
  },
  {
   "cell_type": "code",
   "execution_count": 7,
   "metadata": {
    "collapsed": false
   },
   "outputs": [
    {
     "name": "stdout",
     "output_type": "stream",
     "text": [
      "0.641017593905\n",
      "[-0.          0.          0.         -0.          0.         -0.         -0.\n",
      " -0.         -0.         -0.         -0.         -0.          0.\n",
      "  0.05351376  0.85840671]\n"
     ]
    }
   ],
   "source": [
    "regressor = linear_model.Lasso(random_state = 42)\n",
    "regressor.fit(X_train, y_train)\n",
    "print(metrics.mean_squared_error(y_test, regressor.predict(X_test)))\n",
    "print(regressor.coef_)"
   ]
  },
  {
   "cell_type": "markdown",
   "metadata": {},
   "source": [
    "# With preprocessing"
   ]
  },
  {
   "cell_type": "code",
   "execution_count": 11,
   "metadata": {
    "collapsed": true
   },
   "outputs": [],
   "source": [
    "#создаем стандартный scaler\n",
    "scaler = StandardScaler()\n",
    "scaler.fit(X_train, y_train)\n",
    "scaled_train_data = scaler.transform(X_train)\n",
    "scaled_test_data = scaler.transform(X_test)"
   ]
  },
  {
   "cell_type": "code",
   "execution_count": 12,
   "metadata": {
    "collapsed": false
   },
   "outputs": [
    {
     "name": "stdout",
     "output_type": "stream",
     "text": [
      "0.666862497883\n",
      "[  1.00954816e-01  -1.86336951e-02   3.06326135e-02   8.48147883e-02\n",
      "   7.77125006e-02  -1.53964174e-01   1.48146815e-03  -4.01598392e-02\n",
      "  -3.42339611e-02  -1.01384832e-01  -1.67516032e-02  -9.01028959e-02\n",
      "   1.29569410e-01   9.14685135e-01   2.01661222e+00]\n"
     ]
    }
   ],
   "source": [
    "regressor = linear_model.SGDRegressor(random_state = 42)\n",
    "regressor.fit(scaled_train_data, y_train)\n",
    "print(metrics.mean_squared_error(y_test, regressor.predict(scaled_test_data)))\n",
    "print(regressor.coef_)"
   ]
  },
  {
   "cell_type": "code",
   "execution_count": 13,
   "metadata": {
    "collapsed": false
   },
   "outputs": [
    {
     "name": "stdout",
     "output_type": "stream",
     "text": [
      "1.53282671289\n",
      "[-0.          0.          0.         -0.          0.         -0.          0.\n",
      " -0.         -0.         -0.         -0.         -0.         -0.          0.\n",
      "  1.96551432]\n"
     ]
    }
   ],
   "source": [
    "regressor = linear_model.Lasso(random_state = 42)\n",
    "regressor.fit(scaled_train_data, y_train)\n",
    "print(metrics.mean_squared_error(y_test, regressor.predict(scaled_test_data)))\n",
    "print(regressor.coef_)"
   ]
  },
  {
   "cell_type": "markdown",
   "metadata": {
    "collapsed": true
   },
   "source": [
    "# Random forest"
   ]
  },
  {
   "cell_type": "code",
   "execution_count": 16,
   "metadata": {
    "collapsed": false
   },
   "outputs": [],
   "source": [
    "from sklearn import ensemble\n",
    "from sklearn.model_selection import learning_curve"
   ]
  },
  {
   "cell_type": "code",
   "execution_count": 20,
   "metadata": {
    "collapsed": false
   },
   "outputs": [],
   "source": [
    "rf_classifier_low_depth = ensemble.RandomForestRegressor(n_estimators = 50, max_depth = 2, random_state = 1)\n",
    "train_sizes, train_scores, test_scores = learning_curve(rf_classifier_low_depth,\n",
    "                                                                       X, y, \n",
    "                                                                       train_sizes=np.arange(0.1, 1., 0.2), \n",
    "                                                                       cv=3)"
   ]
  },
  {
   "cell_type": "code",
   "execution_count": 21,
   "metadata": {
    "collapsed": false
   },
   "outputs": [
    {
     "name": "stdout",
     "output_type": "stream",
     "text": [
      "[ 43 129 216 302 388]\n",
      "[ 0.87386427  0.83655558  0.78759007  0.79688056  0.80347542]\n",
      "[ 0.66997104  0.65495653  0.70467052  0.70990262  0.70254845]\n"
     ]
    }
   ],
   "source": [
    "print(train_sizes)\n",
    "print(train_scores.mean(axis = 1))\n",
    "print(test_scores.mean(axis = 1))"
   ]
  },
  {
   "cell_type": "code",
   "execution_count": 26,
   "metadata": {
    "collapsed": false
   },
   "outputs": [
    {
     "data": {
      "text/plain": [
       "<matplotlib.legend.Legend at 0x16698a58>"
      ]
     },
     "execution_count": 26,
     "metadata": {},
     "output_type": "execute_result"
    },
    {
     "data": {
      "image/png": "[encoded data removed]",
      "text/plain": [
       "<matplotlib.figure.Figure at 0x16602390>"
      ]
     },
     "metadata": {},
     "output_type": "display_data"
    }
   ],
   "source": [
    "pylab.grid(True)\n",
    "pylab.plot(train_sizes, train_scores.mean(axis = 1), 'g-', marker='o', label='train')\n",
    "pylab.plot(train_sizes, test_scores.mean(axis = 1), 'r-', marker='o', label='test')\n",
    "pylab.ylim((0.0, 2.0))\n",
    "pylab.legend(loc='lower right')"
   ]
  },
  {
   "cell_type": "code",
   "execution_count": null,
   "metadata": {
    "collapsed": true
   },
   "outputs": [],
   "source": []
  }
 ],
 "metadata": {
  "kernelspec": {
   "display_name": "Python 3",
   "language": "python",
   "name": "python3"
  },
  "language_info": {
   "codemirror_mode": {
    "name": "ipython",
    "version": 3
   },
   "file_extension": ".py",
   "mimetype": "text/x-python",
   "name": "python",
   "nbconvert_exporter": "python",
   "pygments_lexer": "ipython3",
   "version": "3.6.0"
  }
 },
 "nbformat": 4,
 "nbformat_minor": 2
}
