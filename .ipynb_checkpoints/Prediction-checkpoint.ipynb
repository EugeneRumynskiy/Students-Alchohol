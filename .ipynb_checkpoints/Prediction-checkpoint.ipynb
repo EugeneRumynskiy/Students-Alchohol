{
 "cells": [
  {
   "cell_type": "markdown",
   "metadata": {},
   "source": [
    "### Задача 3: предсказать успеваемость студента по его данным (см. колонки G1, G2, G3).  Прототипирование можно делать в jupyter, итоговый результат надо   оформить в виде питоновского модуля  "
   ]
  },
  {
   "cell_type": "markdown",
   "metadata": {},
   "source": [
    "### Модели\n",
    "    Хотим попробовать следующие модели.\n",
    "        naive\n",
    "        OLS, http://www.statsmodels.org/dev/gettingstarted.html\n",
    "        xgboost\n",
    "        RandomForest"
   ]
  },
  {
   "cell_type": "markdown",
   "metadata": {},
   "source": [
    "Судя по статье, ключевую роль в предсказании G3 играют G1, G2. Посмотрим на корреляции и распределения количественных признаков."
   ]
  },
  {
   "cell_type": "markdown",
   "metadata": {},
   "source": [
    "### Data preparation\n",
    "sex -> isMale, isFemale\n",
    "Dalc (1-5) -> (1-3)\n"
   ]
  }
 ],
 "metadata": {
  "kernelspec": {
   "display_name": "Python 3",
   "language": "python",
   "name": "python3"
  },
  "language_info": {
   "codemirror_mode": {
    "name": "ipython",
    "version": 3
   },
   "file_extension": ".py",
   "mimetype": "text/x-python",
   "name": "python",
   "nbconvert_exporter": "python",
   "pygments_lexer": "ipython3",
   "version": "3.6.1"
  }
 },
 "nbformat": 4,
 "nbformat_minor": 2
}
